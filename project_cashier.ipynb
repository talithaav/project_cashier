{
 "cells": [
  {
   "cell_type": "code",
   "execution_count": 1,
   "id": "2b309d55-f809-4cae-a602-33f560155050",
   "metadata": {
    "tags": []
   },
   "outputs": [],
   "source": [
    "# import library\n",
    "from tabulate import tabulate"
   ]
  },
  {
   "cell_type": "code",
   "execution_count": null,
   "id": "d363188f-0ef7-495c-9278-08b141825f6c",
   "metadata": {
    "tags": []
   },
   "outputs": [
    {
     "name": "stdout",
     "output_type": "stream",
     "text": [
      "------------------------------------------------------------\n",
      "WELCOME TO PACMANN SUPERMARKET\n",
      "------------------------------------------------------------\n",
      "1. Add Items\n",
      "2. Show list of Items\n",
      "3. Update Items\n",
      "4. Delete Items\n",
      "5. Clear All Items\n",
      "6. Print Receipt\n",
      "7. Exit\n",
      "------------------------------------------------------------\n"
     ]
    },
    {
     "name": "stdin",
     "output_type": "stream",
     "text": [
      "\n",
      "Enter Task Number :  1\n",
      "Input Item Name:  Ayam\n",
      "Input Item Quantity:  2\n",
      "Input Item Price:  30\n"
     ]
    },
    {
     "name": "stdout",
     "output_type": "stream",
     "text": [
      "\n",
      "Item successfully added!\n",
      "\n",
      "Item Name: Ayam \n",
      "Quantity: 2\n",
      "Price: 30.0\n",
      "\n",
      "------------------------------------------------------------\n",
      "WELCOME TO PACMANN SUPERMARKET\n",
      "------------------------------------------------------------\n",
      "1. Add Items\n",
      "2. Show list of Items\n",
      "3. Update Items\n",
      "4. Delete Items\n",
      "5. Clear All Items\n",
      "6. Print Receipt\n",
      "7. Exit\n",
      "------------------------------------------------------------\n"
     ]
    },
    {
     "name": "stdin",
     "output_type": "stream",
     "text": [
      "\n",
      "Enter Task Number :  3\n",
      "Specify the column you want to edit: (*name/quantity/price) pricee\n"
     ]
    },
    {
     "name": "stdout",
     "output_type": "stream",
     "text": [
      "Please enter 'name', 'quantity', or 'price'.\n"
     ]
    },
    {
     "name": "stdin",
     "output_type": "stream",
     "text": [
      "Specify the column you want to edit: (*name/quantity/price) price\n",
      "Which item do you want to change? Ayam\n",
      "Enter new price: 30000\n"
     ]
    },
    {
     "name": "stdout",
     "output_type": "stream",
     "text": [
      "\n",
      "Item has been updated!\n",
      "==================ORDER LIST==================\n",
      "╒══════╤═════════════╤════════════╤══════════════╕\n",
      "│   No │  Item Name  │   Item Qty │   Item Price │\n",
      "╞══════╪═════════════╪════════════╪══════════════╡\n",
      "│    1 │    Ayam     │          2 │        30000 │\n",
      "╘══════╧═════════════╧════════════╧══════════════╛\n",
      "------------------------------------------------------------\n",
      "WELCOME TO PACMANN SUPERMARKET\n",
      "------------------------------------------------------------\n",
      "1. Add Items\n",
      "2. Show list of Items\n",
      "3. Update Items\n",
      "4. Delete Items\n",
      "5. Clear All Items\n",
      "6. Print Receipt\n",
      "7. Exit\n",
      "------------------------------------------------------------\n"
     ]
    },
    {
     "name": "stdin",
     "output_type": "stream",
     "text": [
      "\n",
      "Enter Task Number :  3\n",
      "Specify the column you want to edit: (*name/quantity/price) name\n",
      "Write the wrong item name (*make sure the item name is correct): Ayam\n",
      "Write the new item name: Ayam Goreng\n"
     ]
    },
    {
     "name": "stdout",
     "output_type": "stream",
     "text": [
      "\n",
      "Item has been updated!\n",
      "==================ORDER LIST==================\n",
      "╒══════╤═════════════╤════════════╤══════════════╕\n",
      "│   No │  Item Name  │   Item Qty │   Item Price │\n",
      "╞══════╪═════════════╪════════════╪══════════════╡\n",
      "│    1 │ Ayam Goreng │          2 │        30000 │\n",
      "╘══════╧═════════════╧════════════╧══════════════╛\n",
      "------------------------------------------------------------\n",
      "WELCOME TO PACMANN SUPERMARKET\n",
      "------------------------------------------------------------\n",
      "1. Add Items\n",
      "2. Show list of Items\n",
      "3. Update Items\n",
      "4. Delete Items\n",
      "5. Clear All Items\n",
      "6. Print Receipt\n",
      "7. Exit\n",
      "------------------------------------------------------------\n"
     ]
    }
   ],
   "source": [
    "class Transaction:\n",
    "    \n",
    "    def __init__(self):\n",
    "        self.item_dict = dict()\n",
    "        \n",
    "    def add_item(self):\n",
    "        \"\"\"Function to add items by inputting the name, quantity, and price for each item.\n",
    "        \"\"\"\n",
    "        \n",
    "        item_name = input(\"Input Item Name: \")\n",
    "        item_qty = int(input(\"Input Item Quantity: \"))\n",
    "        price_per_item = float(input(\"Input Item Price: \"))\n",
    "        \n",
    "        self.item_dict.update({item_name : [item_qty, price_per_item]})\n",
    "        \n",
    "        print(\"\\nItem successfully added!\\n\")\n",
    "        print(f\"Item Name: {item_name} \\nQuantity: {int(item_qty)}\\nPrice: Rp {float(price_per_item)}\\n\")\n",
    "        \n",
    "    def print_item_list(self):\n",
    "        \"\"\"Function to show all items along with their quantity and price in tabulate.\n",
    "        \"\"\"\n",
    "        \n",
    "        index =[]\n",
    "        table = []\n",
    "        headers = ['No','Item Name', 'Item Qty', 'Item Price']\n",
    "        \n",
    "        for idx, _ in enumerate(self.item_dict, start=1):\n",
    "            index.append(idx)\n",
    "            \n",
    "        for key, value in self.item_dict.items():\n",
    "            table.append([key, value[0], value[1]])\n",
    "            \n",
    "        print(\"==================ORDER LIST==================\")\n",
    "        print(tabulate(table, headers=headers, tablefmt='fancy_grid', stralign=\"center\", showindex=index))\n",
    "    \n",
    "    def print_receipt(self):\n",
    "        \"\"\"\n",
    "        Function to show the receipt contains all items along with their quantity, price, \n",
    "        and total price for each item in tabulate\n",
    "        \"\"\"\n",
    "        \n",
    "        index =[]\n",
    "        table = []\n",
    "        headers = ['No','Item Name', 'Item Qty', 'Item Price', 'Total Price']\n",
    "        \n",
    "        for idx, _ in enumerate(self.item_dict, start=1):\n",
    "            index.append(idx)\n",
    "            \n",
    "        for key, value in self.item_dict.items():\n",
    "            total_price = value[0]*value[1]\n",
    "            table.append([key, value[0], value[1], total_price])\n",
    "\n",
    "        print(\"==================RECEIPT==================\")\n",
    "        print(tabulate(table, headers=headers, tablefmt='fancy_grid', stralign=\"center\", showindex=index))\n",
    "    \n",
    "    def check_order(self):\n",
    "        \"\"\"\n",
    "        Function to recheck items that have been added.\n",
    "        The function will call the print_item_list() function to show all items with its detail.\n",
    "        \"\"\"\n",
    "        \n",
    "        self.print_item_list()\n",
    "        \n",
    "#         while True:\n",
    "#             check = input(\"Is the order correct? (*yes/no)\").lower()\n",
    "#             if check in ['yes', 'no']:\n",
    "#                 break\n",
    "#             else:\n",
    "#                 print(\"Please enter 'yes' or 'no'.\")\n",
    "\n",
    "#         if check == 'yes':\n",
    "#             self.print_receipt()\n",
    "#         else:\n",
    "#             self.edit_order()\n",
    "        # self.menu()\n",
    "\n",
    "    def edit_order(self):\n",
    "        \"\"\"This function will guide user for several inputs regarding editing incorrect inputs.\n",
    "        \"\"\"\n",
    "        \n",
    "        while True:\n",
    "            edit = input(\"Specify the column you want to edit (*name/quantity/price)\"):.lower()\n",
    "            if edit in ['name', 'quantity', 'price']:\n",
    "                break\n",
    "            else:\n",
    "                print(\"Please enter 'name', 'quantity', or 'price'.\")\n",
    "\n",
    "        if edit == 'name':\n",
    "            old_name = input(\"Write the wrong item name (*make sure the item name is correct):\")\n",
    "            new_name = input(\"Write the new item name:\")\n",
    "            self.update_item_name(old_name, new_name)\n",
    "        elif edit == 'quantity':\n",
    "            item_name = input(\"Which item do you want to change?\")\n",
    "            new_qty = float(input(\"Enter new quantity:\"))\n",
    "            if new_qty >= 0:\n",
    "                self.update_item_quantity(item_name, new_qty)\n",
    "            else:\n",
    "                raise ValueError(\"Invalid quantity input! Quantity must be a positive number.\")\n",
    "        elif edit == 'price':\n",
    "            item_name = input(\"Which item do you want to change?\")\n",
    "            new_price = float(input(\"Enter new price:\"))\n",
    "            if new_price >= 0:\n",
    "                self.update_item_price(item_name, new_price)\n",
    "            else:\n",
    "                raise ValueError(\"Invalid price input! Price must be a positive number.\")\n",
    "\n",
    "    def update_item_name(self, old_name, new_name):\n",
    "        \"\"\"\n",
    "        Function to correct item name.\n",
    "        This function will be called from the edit_order() function if the user inputs \"name\" to \n",
    "        which column to be corrected.\n",
    "        \n",
    "        Parameters\n",
    "        ----------\n",
    "        old_name: string\n",
    "            wrong item name\n",
    "        new_name: string\n",
    "            correct item name\n",
    "        \"\"\"\n",
    "        \n",
    "        if old_name in self.item_dict:\n",
    "            item_list = self.item_dict.pop(old_name)\n",
    "            self.item_dict[new_name] = item_list\n",
    "            print(\"\\nItem has been updated!\")\n",
    "            self.print_item_list()\n",
    "        else:\n",
    "            raise Exception(\"Item does not exist\")\n",
    "\n",
    "    def update_item_quantity(self, item_name, new_qty):\n",
    "        \"\"\"\n",
    "        Function to correct item quantity.\n",
    "        This function will be called from the edit_order() function if the user inputs \"quantity\" to \n",
    "        which column to be corrected.\n",
    "        \n",
    "        Parameters\n",
    "        ----------\n",
    "        item_name: string\n",
    "            item with wrong quantity\n",
    "        new_qty: int\n",
    "            correct item quantity\n",
    "        \"\"\"\n",
    "        \n",
    "        if item_name in self.item_dict:\n",
    "            self.item_dict[item_name][0] = int(new_qty)\n",
    "            print(\"\\nItem has been updated!\")\n",
    "            self.print_item_list()\n",
    "        else:\n",
    "            raise Exception(\"Item does not exist\")\n",
    "\n",
    "    def update_item_price(self, item_name, new_price):\n",
    "        \"\"\"\n",
    "        Function to correct item price.\n",
    "        This function will be called from the edit_order() function if the user inputs \"price\" to \n",
    "        which column to be corrected.\n",
    "        \n",
    "        Parameters\n",
    "        ----------\n",
    "        item_name: string\n",
    "            item with wrong price\n",
    "        new_price: float\n",
    "            correct item price\n",
    "        \"\"\"\n",
    "        \n",
    "        if item_name in self.item_dict:\n",
    "            self.item_dict[item_name][1] = float(new_price)\n",
    "            print(\"\\nItem has been updated!\")\n",
    "            self.print_item_list()\n",
    "        else:\n",
    "            raise Exception(\"Item does not exist\")\n",
    "    \n",
    "    def delete_item(self, item_name):\n",
    "        \"\"\"\n",
    "        Function to delete items.\n",
    "        \n",
    "        Parameters\n",
    "        ----------\n",
    "        item_name: string\n",
    "            item to be deleted\n",
    "        \"\"\"\n",
    "        \n",
    "        if item_name in self.item_dict.keys():\n",
    "            self.item_dict.pop(item_name)\n",
    "            print(\"Item has successfully deleted!\")\n",
    "            self.print_item_list()\n",
    "\n",
    "        else:\n",
    "            raise Exception(\"Item does not exist\")\n",
    "            \n",
    "        return self.item_dict\n",
    "    \n",
    "    def reset_transaction(self):\n",
    "        \"\"\"Function to delete all orders that have been added.\n",
    "        \"\"\"\n",
    "        \n",
    "        self.item_dict.clear()\n",
    "        \n",
    "        print(\"All items successfully deleted!\")\n",
    "            \n",
    "    def total_price(self):\n",
    "        \"\"\"\n",
    "        Function to calculate the final price for user's spending after discounts based on total price.\n",
    "        \n",
    "        Conditions:\n",
    "        1. If total purchases are above Rp 200,000, user will get a 5% discount.\n",
    "        2. If total purchases are above Rp 300,000, user will get a 8% discount.\n",
    "        3. If total purchases are above Rp 500,000, user will get a 10% discount.\n",
    "        \"\"\"\n",
    "        \n",
    "        total = sum(value[0] * value[1] for value in self.item_dict.values())\n",
    "    \n",
    "        if total > 500_000:\n",
    "            discount_rate, discount = 0.10, \"10%\"\n",
    "        elif total > 300_000:\n",
    "            discount_rate, discount = 0.08, \"8%\"\n",
    "        elif total > 200_000:\n",
    "            discount_rate, discount = 0.05, \"5%\"\n",
    "        else:\n",
    "            discount_rate, discount = 0, \"0%\"\n",
    "\n",
    "        final_price = total * (1 - discount_rate)\n",
    "        \n",
    "        self.print_receipt()\n",
    "\n",
    "        print(f\"TOTAL PRICE: Rp {total:,.2f} \\nDISCOUNT: {discount} \\nFINAL PRICE: Rp {final_price:,.2f}\")\n",
    "        \n",
    "    def menu(self):\n",
    "        \"\"\"Function to display menu list.\n",
    "        \"\"\"\n",
    "        \n",
    "        while True:\n",
    "            print(\"-\"*60)\n",
    "            print(\"WELCOME TO PACMANN SUPERMARKET\")\n",
    "            print(\"-\"*60)\n",
    "            print(\"1. Add Items\")\n",
    "            print(\"2. Show list of Items\")\n",
    "            print(\"3. Update Items\")\n",
    "            print(\"4. Delete Items\")\n",
    "            print(\"5. Clear All Items\")\n",
    "            print(\"6. Print Receipt\")\n",
    "            print(\"7. Exit\")\n",
    "            print(\"-\"*60)\n",
    "\n",
    "            choice = input('\\nEnter Task Number : ')\n",
    "\n",
    "            try:\n",
    "                if choice == '1':\n",
    "                    self.add_item()\n",
    "                elif choice == '2':\n",
    "                    self.check_order()\n",
    "                elif choice == '3':\n",
    "                    self.edit_order()\n",
    "                elif choice == '4':\n",
    "                    item_name = input(\"Enter item name to delete: \")\n",
    "                    self.delete_item(item_name)\n",
    "                elif choice == '5':\n",
    "                    self.reset_transaction()\n",
    "                elif choice == '6':\n",
    "                    self.total_price()\n",
    "                elif choice == '7':\n",
    "                    print(\"-\"*60)\n",
    "                    print(\"Thank you for visiting Pacmann Supermarket.\")\n",
    "                    print(\"-\"*60)\n",
    "                    break\n",
    "                else:\n",
    "                    print(\"Incorrect Input. Please try again.\\n\")\n",
    "            except ValueError:\n",
    "                print(\"Please enter a valid number.\")\n",
    "            except Exception as e:\n",
    "                print(f\"Ann error occurred: {e}\")\n",
    "\n",
    "# Usage\n",
    "if __name__ == \"__main__\":\n",
    "    transaction = Transaction()\n",
    "    transaction.menu()"
   ]
  },
  {
   "cell_type": "code",
   "execution_count": 29,
   "id": "ee7ce899-cdbe-4bc0-8666-8a638d7cbc4d",
   "metadata": {
    "tags": []
   },
   "outputs": [
    {
     "name": "stdout",
     "output_type": "stream",
     "text": [
      "Item successfully added!\n",
      " Item Name: ayam \n",
      " Quantity: 10\n",
      " Price: 30000.0\n",
      "Item successfully added!\n",
      " Item Name: pisang \n",
      " Quantity: 15\n",
      " Price: 5000.0\n",
      "Item successfully added!\n",
      " Item Name: minyak \n",
      " Quantity: 2\n",
      " Price: 32000.0\n"
     ]
    }
   ],
   "source": [
    "input_1 = Transaction()\n",
    "input_1.add_item('ayam', 10, 30_000)\n",
    "input_1.add_item('pisang', 15, 5000)\n",
    "input_1.add_item('minyak', 2, 32_000)"
   ]
  },
  {
   "cell_type": "code",
   "execution_count": 30,
   "id": "8742545a-8ac1-4f8f-95d9-b3094773c737",
   "metadata": {
    "tags": []
   },
   "outputs": [
    {
     "name": "stdout",
     "output_type": "stream",
     "text": [
      "==================ORDER LIST==================\n",
      "╒══════╤═════════════╤════════════╤══════════════╕\n",
      "│   No │  Item Name  │   Item Qty │   Item Price │\n",
      "╞══════╪═════════════╪════════════╪══════════════╡\n",
      "│    1 │    ayam     │         10 │        30000 │\n",
      "├──────┼─────────────┼────────────┼──────────────┤\n",
      "│    2 │   pisang    │         15 │         5000 │\n",
      "├──────┼─────────────┼────────────┼──────────────┤\n",
      "│    3 │   minyak    │          2 │        32000 │\n",
      "╘══════╧═════════════╧════════════╧══════════════╛\n"
     ]
    },
    {
     "name": "stdin",
     "output_type": "stream",
     "text": [
      "Is the order correct? (*yes/no) yes\n"
     ]
    },
    {
     "name": "stdout",
     "output_type": "stream",
     "text": [
      "==================RECEIPT==================\n",
      "╒══════╤═════════════╤════════════╤══════════════╤═══════════════╕\n",
      "│   No │  Item Name  │   Item Qty │   Item Price │   Total Price │\n",
      "╞══════╪═════════════╪════════════╪══════════════╪═══════════════╡\n",
      "│    1 │    ayam     │         10 │        30000 │        300000 │\n",
      "├──────┼─────────────┼────────────┼──────────────┼───────────────┤\n",
      "│    2 │   pisang    │         15 │         5000 │         75000 │\n",
      "├──────┼─────────────┼────────────┼──────────────┼───────────────┤\n",
      "│    3 │   minyak    │          2 │        32000 │         64000 │\n",
      "╘══════╧═════════════╧════════════╧══════════════╧═══════════════╛\n"
     ]
    }
   ],
   "source": [
    "input_1.check_order()"
   ]
  },
  {
   "cell_type": "code",
   "execution_count": 31,
   "id": "9bbc1fde-7604-44e2-bb60-701f631ffd7d",
   "metadata": {
    "tags": []
   },
   "outputs": [
    {
     "name": "stdout",
     "output_type": "stream",
     "text": [
      "==================ORDER LIST==================\n",
      "╒══════╤═════════════╤════════════╤══════════════╕\n",
      "│   No │  Item Name  │   Item Qty │   Item Price │\n",
      "╞══════╪═════════════╪════════════╪══════════════╡\n",
      "│    1 │    ayam     │         10 │        30000 │\n",
      "├──────┼─────────────┼────────────┼──────────────┤\n",
      "│    2 │   pisang    │         15 │         5000 │\n",
      "├──────┼─────────────┼────────────┼──────────────┤\n",
      "│    3 │   minyak    │          2 │        32000 │\n",
      "╘══════╧═════════════╧════════════╧══════════════╛\n"
     ]
    },
    {
     "name": "stdin",
     "output_type": "stream",
     "text": [
      "Is the order correct? (*yes/no) no\n",
      "Specify the column you want to edit: (*name/quantity/price) price\n",
      "Which item do you want to change? pisang\n",
      "Enter new price: 9000\n"
     ]
    },
    {
     "name": "stdout",
     "output_type": "stream",
     "text": [
      "\n",
      "Item has been updated!\n",
      "==================ORDER LIST==================\n",
      "╒══════╤═════════════╤════════════╤══════════════╕\n",
      "│   No │  Item Name  │   Item Qty │   Item Price │\n",
      "╞══════╪═════════════╪════════════╪══════════════╡\n",
      "│    1 │    ayam     │         10 │        30000 │\n",
      "├──────┼─────────────┼────────────┼──────────────┤\n",
      "│    2 │   pisang    │         15 │         9000 │\n",
      "├──────┼─────────────┼────────────┼──────────────┤\n",
      "│    3 │   minyak    │          2 │        32000 │\n",
      "╘══════╧═════════════╧════════════╧══════════════╛\n"
     ]
    }
   ],
   "source": [
    "input_1.check_order()"
   ]
  },
  {
   "cell_type": "code",
   "execution_count": 32,
   "id": "3fe23d4b-c79b-441f-81e1-005a35feb934",
   "metadata": {
    "tags": []
   },
   "outputs": [
    {
     "name": "stdout",
     "output_type": "stream",
     "text": [
      "Item has been sucessfully deleted!\n",
      "==================ORDER LIST==================\n",
      "╒══════╤═════════════╤════════════╤══════════════╕\n",
      "│   No │  Item Name  │   Item Qty │   Item Price │\n",
      "╞══════╪═════════════╪════════════╪══════════════╡\n",
      "│    1 │    ayam     │         10 │        30000 │\n",
      "├──────┼─────────────┼────────────┼──────────────┤\n",
      "│    2 │   pisang    │         15 │         9000 │\n",
      "╘══════╧═════════════╧════════════╧══════════════╛\n"
     ]
    },
    {
     "data": {
      "text/plain": [
       "{'ayam': [10, 30000], 'pisang': [15, 9000.0]}"
      ]
     },
     "execution_count": 32,
     "metadata": {},
     "output_type": "execute_result"
    }
   ],
   "source": [
    "input_1.delete_item('minyak')"
   ]
  },
  {
   "cell_type": "code",
   "execution_count": 20,
   "id": "7f7e846f-f79c-4d48-a04f-06e29785a20c",
   "metadata": {
    "tags": []
   },
   "outputs": [
    {
     "name": "stdout",
     "output_type": "stream",
     "text": [
      "All items successfully deleted!\n"
     ]
    }
   ],
   "source": [
    "input_1.reset_transaction()"
   ]
  },
  {
   "cell_type": "code",
   "execution_count": 33,
   "id": "160218cd-3fca-44b9-9ed6-fbb90913b228",
   "metadata": {
    "tags": []
   },
   "outputs": [
    {
     "name": "stdout",
     "output_type": "stream",
     "text": [
      "TOTAL PRICE: 435000.0 \n",
      "DISCOUNT: 8% \n",
      "FINAL PRICE: 400200.0\n"
     ]
    }
   ],
   "source": [
    "input_1.total_price()"
   ]
  }
 ],
 "metadata": {
  "kernelspec": {
   "display_name": "Python 3 (ipykernel)",
   "language": "python",
   "name": "python3"
  },
  "language_info": {
   "codemirror_mode": {
    "name": "ipython",
    "version": 3
   },
   "file_extension": ".py",
   "mimetype": "text/x-python",
   "name": "python",
   "nbconvert_exporter": "python",
   "pygments_lexer": "ipython3",
   "version": "3.11.5"
  }
 },
 "nbformat": 4,
 "nbformat_minor": 5
}
